{
 "cells": [
  {
   "cell_type": "markdown",
   "source": [
    "# ENVRI Catalogue API Demo"
   ],
   "metadata": {
    "collapsed": false
   }
  },
  {
   "cell_type": "markdown",
   "metadata": {},
   "source": [
    "## Search\n",
    "The search function of the ENVRI Catalogue API allows users to query the  metadata contained into the ENVRI Catalogue.\n",
    "\n",
    "We import the *requests* library to have an interface for sending HTTP requests and handling their responses, to interact to the ENVRI Catalogue API."
   ]
  },
  {
   "cell_type": "code",
   "execution_count": null,
   "metadata": {
    "collapsed": true
   },
   "outputs": [],
   "source": [
    "import requests"
   ]
  },
  {
   "cell_type": "markdown",
   "metadata": {},
   "source": [
    "*api_url* is set to the ENVRI Catalogue API url."
   ]
  },
  {
   "cell_type": "code",
   "execution_count": null,
   "metadata": {},
   "outputs": [],
   "source": [
    "api_url = 'https://ics-c.epos-ip.org/demo/k8s-epos-deploy/envri-fair-catalogue/api/v1'"
   ]
  },
  {
   "cell_type": "markdown",
   "metadata": {},
   "source": [
    "We use the *requests* library to send an HTTP GET request to the ENVRI Catalogue API search endpoint, and then extract the JSON data from the response.\n",
    "The parameters in the query:\n",
    "- *facets* is used to organize the response.\n",
    "- *q* is the search by free text filter."
   ]
  },
  {
   "cell_type": "code",
   "execution_count": null,
   "metadata": {},
   "outputs": [],
   "source": [
    "search_endpoint = api_url + '/resources/search?q=&facets=false'\n",
    "\n",
    "response_search = requests.get(search_endpoint)\n",
    "data = response_search.json()"
   ]
  },
  {
   "cell_type": "markdown",
   "metadata": {},
   "source": [
    "This is a JSON object with two key:\n",
    "\n",
    "1. \"*filters*\" four category of filters and their possible value: \"*keyword*\", \"*organisations*\", \"*sciencedomains*\" and \"*servicetype*\"\n",
    "2. \"results*\" that holds an array of object representing all the resources available in the system.\n"
   ]
  },
  {
   "cell_type": "code",
   "execution_count": null,
   "metadata": {},
   "outputs": [],
   "source": [
    "data"
   ]
  },
  {
   "cell_type": "markdown",
   "source": [
    "Each one of the *results* object has these properties:\n",
    "- \"**availableFormats**\": an array of elements each representing a file format that can be downloaded for this resource, including the format type, the url to get the resource with that specific format, a label, and type which define if the format is natively available of it needs a conversion.\n",
    "- \"ddss\": a string representing the identifier of the resource.\n",
    "- \"**description**\": a string containing a detailed description of the dataset, including the purpose, content, and objectives.\n",
    "- \"**href**\": a string representing the URL where the EPOS ICS-C API serve the details of the resources.\n",
    "- \"id\": a string representing the unique identifier of this dataset.\n",
    "- \"status\": an integer representing the status of the resource.\n",
    "- \"**title**\": a string representing the title of the resource.\n",
    "- \"**uid**\": a string representing the unique identifier of the resource."
   ],
   "metadata": {
    "collapsed": false
   }
  },
  {
   "cell_type": "code",
   "execution_count": null,
   "outputs": [],
   "source": [
    "data['results'][0]"
   ],
   "metadata": {
    "collapsed": false
   }
  },
  {
   "cell_type": "markdown",
   "source": [
    "## Details\n",
    "\n",
    "The details function of the EPOS ICS-C API allows users to retrieve detailed information about a specific resource.\n",
    "\n",
    "To retrieve all the detailed information about this resource is enough to do a GET request with the id of the interested resource, using also this time the *requests* library."
   ],
   "metadata": {
    "collapsed": false
   }
  },
  {
   "cell_type": "code",
   "execution_count": null,
   "outputs": [],
   "source": [
    "import urllib.parse\n",
    "response_detail = requests.get(api_url + '/resources/details?id=' + urllib.parse.quote('5ca5fb68-1035-4edd-9bfa-2a23b38779e8'.encode('utf8')))\n",
    "data_details = response_detail.json()"
   ],
   "metadata": {
    "collapsed": false
   }
  },
  {
   "cell_type": "markdown",
   "source": [
    "The details response payload have this structure:\n",
    "- **availableFormats**: an array that contains multiple object with details about the available format for the data, one for each available format.\n",
    "- **dataProvider**: an array that contains objects with details about the data provider of the resource, one resource can have multiple dataprovider and each one of these can have multiple dataproviders related, also, if available is present an url to the page of the dataprovider.\n",
    "- **description**: a string that describes the purpose and objectives of the resource.\n",
    "- **downloadURL**: This property contains a URL that is a direct link to a downloadable file in a given format. An empty string indicating that there is no download URL available.\n",
    "- **endpoint**: a string that provides the URL endpoint for accessing the data.\n",
    "- **frequencyUpdate**: a string that indicates the frequency or the strategy of updates to the data.\n",
    "- **hasQualityAnnotation**: a string that provides a link to information about the quality assurance of the data.\n",
    "- **href**: a string that provides a link to the details of the resource.\n",
    "- **id**: a string that serves as a unique identifier for the resource.\n",
    "- **internalID**: an array that contains the internal identifier for the resource.\n",
    "- **keywords**: an array of strings that contain keywords related to the data.\n",
    "- **license**: a string that provides a link to the license agreement for accessing the data.\n",
    "- **operationid**: a string that provides a link to the operation of the resource, it contains the unique identifier of the operation.\n",
    "- **scienceDomain**: an array that provides the science domain of the resource.\n",
    "- **serviceDescription**: a string that describes the purpose of the web service.\n",
    "- **serviceDocumentation**: a string that provides a link to the documentation for the web service.\n",
    "- **serviceEndpoint**: a string that provides the URL endpoint for accessing the web service.\n",
    "- **serviceName**: a string that provides the name of the web service.\n",
    "- **serviceParameters**: an array that contains an object with details about the parameters required to use the web service (in this case, the parameter \"start\" is required and has a default value of \"19821001\").\n",
    "- **serviceProvider**: an object with details about the service provider of the resource, one resource can have one service provider and each one of these can have multiple service providers related, also, if available is present an url to the page of the serviceprovider.\n",
    "- **serviceSpatial**: an object that contains spatial information about the service like a path of coordinates.\n",
    "- **serviceTemporalCoverage**: an object that provides temporal coverage information for the service.\n",
    "- **serviceType**: an array that provides the type of the service.\n",
    "- **spatial**: an object that contains spatial information about the resource like a path defined by a set of coordinates.\n",
    "- **temporalCoverage**: an object that provides temporal coverage information for the resource.\n",
    "- **title**: a string that provides the title of the resource.\n",
    "- **type**: a string that provides the type of the resource.\n",
    "- **uid**: a string that serves as a unique identifier of the resource."
   ],
   "metadata": {
    "collapsed": false
   }
  },
  {
   "cell_type": "code",
   "execution_count": null,
   "outputs": [],
   "source": [
    "data_details"
   ],
   "metadata": {
    "collapsed": false
   }
  },
  {
   "cell_type": "markdown",
   "source": [
    "## Download original data\n",
    "To download the original data of one of the resource is enough to use the *requests* to execute a GET request using the id of  the resource and on the original URL endpoint"
   ],
   "metadata": {
    "collapsed": false
   }
  },
  {
   "cell_type": "code",
   "execution_count": null,
   "outputs": [],
   "source": [
    "import urllib.parse\n",
    "response_original_url = requests.get(api_url + '/getoriginalurl?id=' + urllib.parse.quote('5ca5fb68-1035-4edd-9bfa-2a23b38779e8'.encode('utf8')))\n",
    "data_original_url = response_original_url.json()"
   ],
   "metadata": {
    "collapsed": false
   }
  },
  {
   "cell_type": "markdown",
   "source": [
    "The response is a Json Object with only one property: *url*.\n",
    "The url is where the resource is located."
   ],
   "metadata": {
    "collapsed": false
   }
  },
  {
   "cell_type": "code",
   "execution_count": null,
   "outputs": [],
   "source": [
    "data_original_url"
   ],
   "metadata": {
    "collapsed": false
   }
  },
  {
   "cell_type": "markdown",
   "source": [
    "Using *requests* is possible to get the information located at that URL"
   ],
   "metadata": {
    "collapsed": false
   }
  },
  {
   "cell_type": "code",
   "execution_count": null,
   "outputs": [],
   "source": [
    "response_original_data = requests.get(data_original_url['url'])\n",
    "original_data = response_original_data.content\n",
    "original_data"
   ],
   "metadata": {
    "collapsed": false
   }
  },
  {
   "cell_type": "markdown",
   "source": [
    "## Use case\n",
    "\n",
    "A user want to do some analysis on some sismic data distributed by the KMNI."
   ],
   "metadata": {
    "collapsed": false
   }
  },
  {
   "cell_type": "markdown",
   "source": [
    "### Search of the data\n",
    "\n",
    "The user do the search request asking to filter on this string: \"seismic waveforms\" (The string needs to be url encoded)"
   ],
   "metadata": {
    "collapsed": false
   }
  },
  {
   "cell_type": "code",
   "execution_count": 7,
   "outputs": [
    {
     "data": {
      "text/plain": "{'filters': [{'children': [{'id': 'aHR0cDovL3B1YmxpY2F0aW9ucy5ldXJvcGEuZXUvcmVzb3VyY2UvYXV0aG9yaXR5Lzhtbi9ldXJvc2Npdm9jLzU5ZjZiNjkxLTUzYjQtNGVlNi05YmMyLWQ0Mjg1ODRlYzhiMg==',\n     'name': 'http://publications.europa.eu/resource/authority/8mn/euroscivoc/59f6b691-53b4-4ee6-9bc2-d428584ec8b2'}],\n   'name': 'keywords'},\n  {'children': [{'id': 'ddc53483-0504-4d2e-a085-644f06d6b0ae',\n     'name': 'EPOS'}],\n   'name': 'organisations'},\n  {'children': [{'id': 'f51a100a-db40-4bf5-a70d-b920043746a9',\n     'name': 'https://gcmd.earthdata.nasa.gov/kms/concept/2b9ad978-d986-4d63-b477-0f5efc8ace72'}],\n   'name': 'sciencedomains'},\n  {'children': [{'id': '4574597d-4327-4a4d-832f-852091ce132a',\n     'name': 'stypes:DataService'},\n    {'id': '09e733d8-b574-4bdb-b4e0-5657dd6d8e11',\n     'name': 'stypes:SpatialService'}],\n   'name': 'servicetypes'}],\n 'results': [{'availableFormats': [{'format': 'application/vnd.fdsn.mseed',\n     'href': 'https://ics-c.epos-ip.org/demo/k8s-epos-deploy/envri-fair-catalogue/api/v1/execute?id=9307d428-3fc0-4096-aa3f-bfc2f93673cc&format=application/vnd.fdsn.mseed',\n     'label': 'APPLICATION/VND.FDSN.MSEED',\n     'originalFormat': 'application/vnd.fdsn.mseed',\n     'type': 'ORIGINAL'}],\n   'description': 'Access to seismic waveforms (miniSEED format) distributed by the ORFEUS Data Center at KNMI.',\n   'href': 'https://ics-c.epos-ip.org/demo/k8s-epos-deploy/envri-fair-catalogue/api/v1/resources/details?id=9307d428-3fc0-4096-aa3f-bfc2f93673cc',\n   'id': '9307d428-3fc0-4096-aa3f-bfc2f93673cc',\n   'status': 1,\n   'title': 'Seismic waveforms distributed by the ORFEUS Data Center at KNMI',\n   'uid': 'https://www.epos-eu.org/epos-dcat-ap/Seismology/Dataset/001/Distribution/001/ODC'}]}"
     },
     "execution_count": 7,
     "metadata": {},
     "output_type": "execute_result"
    }
   ],
   "source": [
    "response_search_filtered = requests.get(api_url + \"/resources/search?q=\" + urllib.parse.quote('seismic waveforms'.encode('utf8')) + \"&facets=false\")\n",
    "filtered_data = response_search_filtered.json()\n",
    "filtered_data"
   ],
   "metadata": {
    "collapsed": false
   }
  },
  {
   "cell_type": "markdown",
   "source": [
    "It returned only one result"
   ],
   "metadata": {
    "collapsed": false
   }
  },
  {
   "cell_type": "markdown",
   "source": [
    "### Get the data\n",
    "\n",
    "The user get the data of the resource from the source. Before he get from the ICS-C API the url of the original resource, then he queries the service to get the actual data."
   ],
   "metadata": {
    "collapsed": false
   }
  },
  {
   "cell_type": "code",
   "execution_count": null,
   "outputs": [],
   "source": [
    "response_KNMI_original_url= requests.get(api_url + '/getoriginalurl?id=' + filtered_data['results'][0]['id'])\n",
    "original_url_KNMI = response_KNMI_original_url.json()['url']\n",
    "\n",
    "response_KNMI_data = requests.get(original_url_KNMI)\n",
    "KNMI_data = response_KNMI_data.content"
   ],
   "metadata": {
    "collapsed": false
   }
  },
  {
   "cell_type": "markdown",
   "source": [
    "#### Save the data on file\n",
    "\n",
    "The user know from the search that the data which he had just retrieved is a *miniseed* file, because in the *availableFormats* it shows that the original file format. So he save it on a file."
   ],
   "metadata": {
    "collapsed": false
   }
  },
  {
   "cell_type": "code",
   "execution_count": null,
   "outputs": [],
   "source": [
    "with open(\"KNMI_data.mseed\", \"wb\") as f:\n",
    "    f.write(KNMI_data)"
   ],
   "metadata": {
    "collapsed": false
   }
  },
  {
   "cell_type": "markdown",
   "source": [
    "### Visualize the data\n",
    "\n",
    "Then he decide to visualize the waves using obspy library."
   ],
   "metadata": {
    "collapsed": false
   }
  },
  {
   "cell_type": "code",
   "execution_count": 9,
   "outputs": [
    {
     "data": {
      "text/plain": "<Figure size 800x250 with 1 Axes>",
      "image/png": "[encoded data removed]"
     },
     "metadata": {},
     "output_type": "display_data"
    },
    {
     "data": {
      "text/plain": "<Figure size 800x250 with 1 Axes>",
      "image/png": "[encoded data removed]"
     },
     "execution_count": 9,
     "metadata": {},
     "output_type": "execute_result"
    }
   ],
   "source": [
    "from obspy import read\n",
    "\n",
    "st = read(\"KNMI_data.mseed\", format='mseed')\n",
    "st[2].plot()"
   ],
   "metadata": {
    "collapsed": false
   }
  }
 ],
 "metadata": {
  "kernelspec": {
   "display_name": "Python 3 (ipykernel)",
   "language": "python",
   "name": "python3"
  },
  "language_info": {
   "codemirror_mode": {
    "name": "ipython",
    "version": 3
   },
   "file_extension": ".py",
   "mimetype": "text/x-python",
   "name": "python",
   "nbconvert_exporter": "python",
   "pygments_lexer": "ipython3",
   "version": "3.9.15"
  }
 },
 "nbformat": 4,
 "nbformat_minor": 1
}
